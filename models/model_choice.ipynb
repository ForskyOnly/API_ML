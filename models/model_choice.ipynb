{
 "cells": [
  {
   "cell_type": "markdown",
   "metadata": {},
   "source": [
    "# NOTEBOOK POUR LA SELECION DU MODELE, DE CONFIGURATION DE MLFLOW \n"
   ]
  },
  {
   "cell_type": "markdown",
   "metadata": {},
   "source": [
    "## IMPORTS ET CONFIGURATION DE MLFLOW, DEFINITION DES EPERIENCES...\n"
   ]
  },
  {
   "cell_type": "code",
   "execution_count": 27,
   "metadata": {},
   "outputs": [
    {
     "name": "stderr",
     "output_type": "stream",
     "text": [
      "2024/09/28 21:11:09 INFO mlflow.tracking.fluent: Experiment with name 'Classification de texte' does not exist. Creating a new experiment.\n"
     ]
    },
    {
     "name": "stdout",
     "output_type": "stream",
     "text": [
      "MLflow Version: 2.16.2\n",
      "Tracking URI: file:/home/utilisateur/Documents/dev/devia/API_ML/models/mlruns\n",
      "Experiment ID: 650145881295194294\n",
      "Experiment Name: Classification de texte\n"
     ]
    }
   ],
   "source": [
    "import mlflow\n",
    "import os\n",
    "from sklearn.model_selection import train_test_split, GridSearchCV\n",
    "from sklearn.metrics import accuracy_score, precision_score, recall_score, f1_score\n",
    "from sklearn.feature_extraction.text import TfidfVectorizer\n",
    "from sklearn.pipeline import Pipeline\n",
    "from sklearn.svm import SVC\n",
    "from sklearn.ensemble import RandomForestClassifier, GradientBoostingClassifier\n",
    "from sklearn.naive_bayes import MultinomialNB\n",
    "from sklearn.linear_model import LogisticRegression\n",
    "from sklearn.metrics import confusion_matrix\n",
    "\n",
    "# Configuration de MLflow\n",
    "current_dir = os.getcwd()\n",
    "mlflow_dir = os.path.join(current_dir, 'mlruns')\n",
    "mlflow.set_tracking_uri(f\"file:{mlflow_dir}\")\n",
    "\n",
    "# Créer le dossier mlruns et le sous-dossier .trash\n",
    "os.makedirs(os.path.join(mlflow_dir, '.trash'), exist_ok=True)\n",
    "\n",
    "# Définir l'expérience\n",
    "experiment = mlflow.set_experiment(\"Classification de texte\")\n",
    "\n",
    "print(f\"MLflow Version: {mlflow.__version__}\")\n",
    "print(f\"Tracking URI: {mlflow.get_tracking_uri()}\")\n",
    "print(f\"Experiment ID: {experiment.experiment_id}\")\n",
    "print(f\"Experiment Name: {experiment.name}\")"
   ]
  },
  {
   "cell_type": "markdown",
   "metadata": {},
   "source": [
    "### Chargement des données et division en ensembles d'entraînement et de test"
   ]
  },
  {
   "cell_type": "code",
   "execution_count": null,
   "metadata": {},
   "outputs": [],
   "source": [
    "df = pd.read_csv('data.csv', encoding='latin-1', sep=';')\n",
    "print(df.head())\n",
    "\n",
    "\n",
    "X = df['Description']\n",
    "y = df['TAG']\n",
    "\n",
    "X_train, X_test, y_train, y_test = train_test_split(X, y, test_size=0.2, random_state=42)"
   ]
  },
  {
   "cell_type": "markdown",
   "metadata": {},
   "source": [
    "### Definition des pipelines et des grilles de parametres"
   ]
  },
  {
   "cell_type": "code",
   "execution_count": 29,
   "metadata": {},
   "outputs": [],
   "source": [
    "pipelines = {\n",
    "    'SVM': Pipeline([\n",
    "        ('tfidf', TfidfVectorizer()),\n",
    "        ('clf', SVC())\n",
    "    ]),\n",
    "    'RandomForest': Pipeline([\n",
    "        ('tfidf', TfidfVectorizer()),\n",
    "        ('clf', RandomForestClassifier())\n",
    "    ]),\n",
    "    'GradientBoosting': Pipeline([\n",
    "        ('tfidf', TfidfVectorizer()),\n",
    "        ('clf', GradientBoostingClassifier())\n",
    "    ]),\n",
    "    'NaiveBayes': Pipeline([\n",
    "        ('tfidf', TfidfVectorizer()),\n",
    "        ('clf', MultinomialNB())\n",
    "    ]),\n",
    "    'LogisticRegression': Pipeline([\n",
    "        ('tfidf', TfidfVectorizer()),\n",
    "        ('clf', LogisticRegression())\n",
    "    ])\n",
    "}\n",
    "\n",
    "param_grids = {\n",
    "    'SVM': {\n",
    "        'tfidf__max_features': [5000, 10000],\n",
    "        'clf__C': [0.1, 1, 10],\n",
    "        'clf__kernel': ['linear', 'rbf']\n",
    "    },\n",
    "    'RandomForest': {\n",
    "        'tfidf__max_features': [5000, 10000],\n",
    "        'clf__n_estimators': [100, 200],\n",
    "        'clf__max_depth': [10, 20, None]\n",
    "    },\n",
    "    'GradientBoosting': {\n",
    "        'tfidf__max_features': [5000, 10000],\n",
    "        'clf__n_estimators': [100, 200],\n",
    "        'clf__learning_rate': [0.01, 0.1]\n",
    "    },\n",
    "    'NaiveBayes': {\n",
    "        'tfidf__max_features': [5000, 10000],\n",
    "        'clf__alpha': [0.1, 1.0]\n",
    "    },\n",
    "    'LogisticRegression': {\n",
    "        'tfidf__max_features': [5000, 10000],\n",
    "        'clf__C': [0.1, 1, 10],\n",
    "        'clf__penalty': ['l1', 'l2']\n",
    "    }\n",
    "}"
   ]
  },
  {
   "cell_type": "markdown",
   "metadata": {},
   "source": [
    "### ENTRAINEMENT DES MODELES ET ENREGISTREMENT DANS MLFLOW"
   ]
  },
  {
   "cell_type": "code",
   "execution_count": 32,
   "metadata": {},
   "outputs": [
    {
     "name": "stdout",
     "output_type": "stream",
     "text": [
      "Entraînement du modèle : SVM\n",
      "Fitting 5 folds for each of 12 candidates, totalling 60 fits\n"
     ]
    },
    {
     "name": "stderr",
     "output_type": "stream",
     "text": [
      "2024/09/28 21:12:00 WARNING mlflow.models.model: Model logged without a signature and input example. Please set `input_example` parameter when logging the model to auto infer the model signature.\n"
     ]
    },
    {
     "name": "stdout",
     "output_type": "stream",
     "text": [
      "Meilleurs paramètres pour SVM: {'clf__C': 10, 'clf__kernel': 'linear', 'tfidf__max_features': 5000}\n",
      "Précision de test: 0.7500\n",
      "Précision d'entraînement: 1.0000\n",
      "--------------------------------------------------\n",
      "Entraînement du modèle : RandomForest\n",
      "Fitting 5 folds for each of 12 candidates, totalling 60 fits\n"
     ]
    },
    {
     "name": "stderr",
     "output_type": "stream",
     "text": [
      "2024/09/28 21:12:07 WARNING mlflow.models.model: Model logged without a signature and input example. Please set `input_example` parameter when logging the model to auto infer the model signature.\n"
     ]
    },
    {
     "name": "stdout",
     "output_type": "stream",
     "text": [
      "Meilleurs paramètres pour RandomForest: {'clf__max_depth': 10, 'clf__n_estimators': 100, 'tfidf__max_features': 10000}\n",
      "Précision de test: 0.8500\n",
      "Précision d'entraînement: 1.0000\n",
      "--------------------------------------------------\n",
      "Entraînement du modèle : GradientBoosting\n",
      "Fitting 5 folds for each of 8 candidates, totalling 40 fits\n"
     ]
    },
    {
     "name": "stderr",
     "output_type": "stream",
     "text": [
      "2024/09/28 21:12:18 WARNING mlflow.models.model: Model logged without a signature and input example. Please set `input_example` parameter when logging the model to auto infer the model signature.\n"
     ]
    },
    {
     "name": "stdout",
     "output_type": "stream",
     "text": [
      "Meilleurs paramètres pour GradientBoosting: {'clf__learning_rate': 0.01, 'clf__n_estimators': 100, 'tfidf__max_features': 10000}\n",
      "Précision de test: 0.8000\n",
      "Précision d'entraînement: 1.0000\n",
      "--------------------------------------------------\n",
      "Entraînement du modèle : NaiveBayes\n",
      "Fitting 5 folds for each of 4 candidates, totalling 20 fits\n"
     ]
    },
    {
     "name": "stderr",
     "output_type": "stream",
     "text": [
      "2024/09/28 21:12:21 WARNING mlflow.models.model: Model logged without a signature and input example. Please set `input_example` parameter when logging the model to auto infer the model signature.\n"
     ]
    },
    {
     "name": "stdout",
     "output_type": "stream",
     "text": [
      "Meilleurs paramètres pour NaiveBayes: {'clf__alpha': 1.0, 'tfidf__max_features': 5000}\n",
      "Précision de test: 0.7500\n",
      "Précision d'entraînement: 1.0000\n",
      "--------------------------------------------------\n",
      "Entraînement du modèle : LogisticRegression\n",
      "Fitting 5 folds for each of 12 candidates, totalling 60 fits\n"
     ]
    },
    {
     "name": "stderr",
     "output_type": "stream",
     "text": [
      "/home/utilisateur/miniconda3/envs/ai/lib/python3.9/site-packages/sklearn/model_selection/_validation.py:540: FitFailedWarning: \n",
      "30 fits failed out of a total of 60.\n",
      "The score on these train-test partitions for these parameters will be set to nan.\n",
      "If these failures are not expected, you can try to debug them by setting error_score='raise'.\n",
      "\n",
      "Below are more details about the failures:\n",
      "--------------------------------------------------------------------------------\n",
      "30 fits failed with the following error:\n",
      "Traceback (most recent call last):\n",
      "  File \"/home/utilisateur/miniconda3/envs/ai/lib/python3.9/site-packages/sklearn/model_selection/_validation.py\", line 888, in _fit_and_score\n",
      "    estimator.fit(X_train, y_train, **fit_params)\n",
      "  File \"/home/utilisateur/miniconda3/envs/ai/lib/python3.9/site-packages/sklearn/base.py\", line 1473, in wrapper\n",
      "    return fit_method(estimator, *args, **kwargs)\n",
      "  File \"/home/utilisateur/miniconda3/envs/ai/lib/python3.9/site-packages/sklearn/pipeline.py\", line 473, in fit\n",
      "    self._final_estimator.fit(Xt, y, **last_step_params[\"fit\"])\n",
      "  File \"/home/utilisateur/miniconda3/envs/ai/lib/python3.9/site-packages/sklearn/base.py\", line 1473, in wrapper\n",
      "    return fit_method(estimator, *args, **kwargs)\n",
      "  File \"/home/utilisateur/miniconda3/envs/ai/lib/python3.9/site-packages/sklearn/linear_model/_logistic.py\", line 1194, in fit\n",
      "    solver = _check_solver(self.solver, self.penalty, self.dual)\n",
      "  File \"/home/utilisateur/miniconda3/envs/ai/lib/python3.9/site-packages/sklearn/linear_model/_logistic.py\", line 67, in _check_solver\n",
      "    raise ValueError(\n",
      "ValueError: Solver lbfgs supports only 'l2' or None penalties, got l1 penalty.\n",
      "\n",
      "  warnings.warn(some_fits_failed_message, FitFailedWarning)\n",
      "/home/utilisateur/miniconda3/envs/ai/lib/python3.9/site-packages/sklearn/model_selection/_search.py:1103: UserWarning: One or more of the test scores are non-finite: [   nan    nan 0.5875 0.5875    nan    nan 0.7125 0.7125    nan    nan\n",
      " 0.75   0.75  ]\n",
      "  warnings.warn(\n",
      "2024/09/28 21:12:23 WARNING mlflow.models.model: Model logged without a signature and input example. Please set `input_example` parameter when logging the model to auto infer the model signature.\n"
     ]
    },
    {
     "name": "stdout",
     "output_type": "stream",
     "text": [
      "Meilleurs paramètres pour LogisticRegression: {'clf__C': 10, 'clf__penalty': 'l2', 'tfidf__max_features': 5000}\n",
      "Précision de test: 0.8000\n",
      "Précision d'entraînement: 1.0000\n",
      "--------------------------------------------------\n",
      "Entraînement terminé. Vérifiez MLflow UI pour les résultats détaillés.\n"
     ]
    }
   ],
   "source": [
    "for name, pipeline in pipelines.items():\n",
    "    with mlflow.start_run(run_name=name):\n",
    "        print(f\"Entraînement du modèle : {name}\")\n",
    "        \n",
    "        # Recherche d'hyperparamètres\n",
    "        grid_search = GridSearchCV(pipeline, param_grids[name], cv=5, n_jobs=-1, verbose=1)\n",
    "        grid_search.fit(X_train, y_train)\n",
    "        \n",
    "        # Meilleur modèle\n",
    "        best_model = grid_search.best_estimator_\n",
    "        \n",
    "        # Prédictions sur l'ensemble de test\n",
    "        y_test_pred = best_model.predict(X_test)\n",
    "        \n",
    "        # Prédictions sur l'ensemble d'entraînement\n",
    "        y_train_pred = best_model.predict(X_train)\n",
    "        \n",
    "        # Calcul des métriques pour l'ensemble de test\n",
    "        test_accuracy = accuracy_score(y_test, y_test_pred)\n",
    "        test_precision = precision_score(y_test, y_test_pred, average='weighted')\n",
    "        test_recall = recall_score(y_test, y_test_pred, average='weighted')\n",
    "        test_f1 = f1_score(y_test, y_test_pred, average='weighted')\n",
    "        \n",
    "        # Calcul des métriques pour l'ensemble d'entraînement\n",
    "        train_accuracy = accuracy_score(y_train, y_train_pred)\n",
    "        train_precision = precision_score(y_train, y_train_pred, average='weighted')\n",
    "        train_recall = recall_score(y_train, y_train_pred, average='weighted')\n",
    "        train_f1 = f1_score(y_train, y_train_pred, average='weighted')\n",
    "        \n",
    "        # Enregistrement dans MLflow\n",
    "        mlflow.log_param(\"model\", name)\n",
    "        mlflow.log_params(grid_search.best_params_)\n",
    "        \n",
    "        # Métriques de test\n",
    "        mlflow.log_metric(\"test_accuracy\", test_accuracy)\n",
    "        mlflow.log_metric(\"test_precision\", test_precision)\n",
    "        mlflow.log_metric(\"test_recall\", test_recall)\n",
    "        mlflow.log_metric(\"test_f1\", test_f1)\n",
    "        \n",
    "        # Métriques d'entraînement\n",
    "        mlflow.log_metric(\"train_accuracy\", train_accuracy)\n",
    "        mlflow.log_metric(\"train_precision\", train_precision)\n",
    "        mlflow.log_metric(\"train_recall\", train_recall)\n",
    "        mlflow.log_metric(\"train_f1\", train_f1)\n",
    "        \n",
    "        # Enregistrement du meilleur modèle\n",
    "        mlflow.sklearn.log_model(best_model, \"model\")\n",
    "        \n",
    "        # Enregistrement de la matrice de confusion\n",
    "        cm = confusion_matrix(y_test, y_test_pred)\n",
    "        cm_df = pd.DataFrame(cm, index=best_model.classes_, columns=best_model.classes_)\n",
    "        mlflow.log_dict(cm_df.to_dict(), \"confusion_matrix.json\")\n",
    "        \n",
    "        print(f\"Meilleurs paramètres pour {name}: {grid_search.best_params_}\")\n",
    "        print(f\"Précision de test: {test_accuracy:.4f}\")\n",
    "        print(f\"Précision d'entraînement: {train_accuracy:.4f}\")\n",
    "        print(\"-\" * 50)\n",
    "\n",
    "print(\"Entraînement terminé. Vérifiez MLflow UI pour les résultats détaillés.\")"
   ]
  }
 ],
 "metadata": {
  "kernelspec": {
   "display_name": "ml",
   "language": "python",
   "name": "python3"
  },
  "language_info": {
   "codemirror_mode": {
    "name": "ipython",
    "version": 3
   },
   "file_extension": ".py",
   "mimetype": "text/x-python",
   "name": "python",
   "nbconvert_exporter": "python",
   "pygments_lexer": "ipython3",
   "version": "3.9.18"
  }
 },
 "nbformat": 4,
 "nbformat_minor": 2
}
